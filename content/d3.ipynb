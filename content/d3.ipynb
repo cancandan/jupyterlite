{
  "metadata": {
    "language_info": {
      "codemirror_mode": {
        "name": "python",
        "version": 3
      },
      "file_extension": ".py",
      "mimetype": "text/x-python",
      "name": "python",
      "nbconvert_exporter": "python",
      "pygments_lexer": "ipython3",
      "version": "3.8"
    },
    "kernelspec": {
      "name": "python",
      "display_name": "Python (Pyodide)",
      "language": "python"
    }
  },
  "nbformat_minor": 4,
  "nbformat": 4,
  "cells": [
    {
      "cell_type": "code",
      "source": "%%javascript\n    var script = document.createElement('script');\n    script.type = 'text/javascript';\n    script.src = '//cdnjs.cloudflare.com/ajax/libs/d3/4.13.0/d3.js';\n    document.head.appendChild(script);\n    console.log(window.d3)\n    \n",
      "metadata": {
        "trusted": true
      },
      "execution_count": 2,
      "outputs": [
        {
          "output_type": "display_data",
          "data": {
            "text/plain": "<IPython.core.display.Javascript object>",
            "application/javascript": "    var script = document.createElement('script');\n    script.type = 'text/javascript';\n    script.src = '//cdnjs.cloudflare.com/ajax/libs/d3/4.13.0/d3.js';\n    document.head.appendChild(script);\n    console.log(window.d3)\n    \n"
          },
          "metadata": {}
        }
      ]
    },
    {
      "cell_type": "code",
      "source": "from IPython.display import Javascript\nsvg_script = '''\nvar svg = d3.select(element)\n    .append(\"svg\")\n    .attr(\"width\", 300)\n    .attr(\"height\", 300);    \n\nsvg.append(\"circle\")\n    .style(\"stroke\", \"gray\")\n    .style(\"fill\", \"cyan\")\n    .attr(\"r\", 130)\n    .attr(\"cx\", 150)\n    .attr(\"cy\", 150)\n    .transition()\n        .delay(100)\n        .duration(10000)  \n        .attr(\"r\", 10)\n        .attr(\"cx\", 150)\n        .style(\"fill\", \"blue\"); \n'''\n\nJavascript(svg_script)",
      "metadata": {
        "trusted": true
      },
      "execution_count": 3,
      "outputs": [
        {
          "execution_count": 3,
          "output_type": "execute_result",
          "data": {
            "text/plain": "<IPython.core.display.Javascript object>",
            "application/javascript": "\nvar svg = d3.select(element)\n    .append(\"svg\")\n    .attr(\"width\", 300)\n    .attr(\"height\", 300);    \n\nsvg.append(\"circle\")\n    .style(\"stroke\", \"gray\")\n    .style(\"fill\", \"cyan\")\n    .attr(\"r\", 130)\n    .attr(\"cx\", 150)\n    .attr(\"cy\", 150)\n    .transition()\n        .delay(100)\n        .duration(10000)  \n        .attr(\"r\", 10)\n        .attr(\"cx\", 150)\n        .style(\"fill\", \"blue\"); \n"
          },
          "metadata": {}
        }
      ]
    },
    {
      "cell_type": "code",
      "source": "",
      "metadata": {},
      "execution_count": null,
      "outputs": []
    }
  ]
}